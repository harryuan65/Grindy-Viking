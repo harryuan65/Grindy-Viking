{
 "cells": [
  {
   "cell_type": "code",
   "execution_count": 4,
   "metadata": {},
   "outputs": [
    {
     "name": "stderr",
     "output_type": "stream",
     "text": [
      "(irb):1: warning: already initialized constant Object::TEST_CASES\n",
      "(irb):7: warning: previous definition of TEST_CASES was here\n",
      "(irb):12: warning: already initialized constant Object::DETAILED_TEST_CASES\n",
      "(irb):18: warning: previous definition of DETAILED_TEST_CASES was here\n"
     ]
    },
    {
     "data": {
      "text/plain": [
       "[[6, 2, 1, 4, 8, 7, 3, 5]]"
      ]
     },
     "execution_count": 4,
     "metadata": {},
     "output_type": "execute_result"
    }
   ],
   "source": [
    "\n",
    "TEST_CASES = [\n",
    "  [6, 2, 1, 4, 8, 7, 3, 5],\n",
    "  [7, 6, 3, 5, 10, 1, 4, 2, 8, 9],\n",
    "  [3, 10, 9, 4, 2, 5, 6, 7, 1, 8],\n",
    "  [12, 23, 5, 22, 27, 15, 17, 19, 4, 20, 30, 26, 16, 13, 11, 24, 1, 6, 9, 18, 7, 21, 25, 28, 10, 14, 3, 29, 8, 2],\n",
    "  [13, 22, 21, 9, 17, 2, 3, 23, 2, 1, 2, 14, 27, 25, 8, 24, 11, 20, 14, 25, 11, 17, 11, 12, 3, 25, 8, 13, 19, 13],\n",
    "  (1..1000).map{ (rand* 1000).to_i },\n",
    "  (1..10000).map{ (rand* 20000).to_i },\n",
    "  (1..100000).map{ (rand* 100000).to_i }\n",
    "]\n",
    "\n",
    "DETAILED_TEST_CASES = [\n",
    "  [6, 2, 1, 4, 8, 7, 3, 5],\n",
    "]\n"
   ]
  },
  {
   "cell_type": "code",
   "execution_count": 15,
   "metadata": {},
   "outputs": [
    {
     "data": {
      "text/plain": [
       "true"
      ]
     },
     "execution_count": 15,
     "metadata": {},
     "output_type": "execute_result"
    }
   ],
   "source": [
    "# target = \"iterative/quicksort\"\n",
    "target = \"iterative/quicksort_detailed\"\n",
    "# target = \"recursive/quicksort\"\n",
    "# target = \"recursive/quicksort_detailed\"\n",
    "require \"rspec\"\n",
    "require_relative \"./#{target}\"\n",
    "\n",
    "spec = RSpec.describe method(:quicksort) do\n",
    "  test_cases = target.match(/detailed/) ? DETAILED_TEST_CASES : TEST_CASES\n",
    "  test_cases.each do |tc|\n",
    "    it \"sorts correctly(test cases:#{target})\" do\n",
    "      expect(subject[tc, 0, tc.size-1]).to eq(tc.sort)\n",
    "    end\n",
    "  end\n",
    "end\n",
    "\n",
    "spec.run"
   ]
  }
 ],
 "metadata": {
  "kernelspec": {
   "display_name": "Ruby 3.0.3",
   "language": "ruby",
   "name": "ruby"
  },
  "language_info": {
   "file_extension": ".rb",
   "mimetype": "application/x-ruby",
   "name": "ruby",
   "version": "3.0.3"
  },
  "orig_nbformat": 4
 },
 "nbformat": 4,
 "nbformat_minor": 2
}
